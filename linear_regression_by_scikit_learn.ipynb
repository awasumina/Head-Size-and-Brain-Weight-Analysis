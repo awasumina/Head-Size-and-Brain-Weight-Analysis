{
  "cells": [
    {
      "cell_type": "code",
      "execution_count": null,
      "metadata": {
        "id": "bcYKTyM5Dybk"
      },
      "outputs": [],
      "source": [
        "import numpy as np\n",
        "import pandas as pd\n",
        "from sklearn.linear_model import LinearRegression\n",
        "from sklearn.metrics import mean_squared_error\n",
        "\n",
        "data = pd.read_csv('headbrain.csv')\n",
        "\n",
        "# Collectng X  Y\n",
        "X = data['Head Size(cm^3)'].values\n",
        "Y = data['Brain Weight(grams)'].values\n",
        "\n",
        "# Total number of values\n",
        "n = len(X)\n",
        "\n",
        "# Reshaping X for scikit-learn\n",
        "X = X.reshape((n, 1))\n",
        " \n",
        "# Creating Model\n",
        "reg = LinearRegression()\n",
        "\n",
        "# Fitting training data\n",
        "reg.fit(X, Y)\n",
        "\n",
        "# Y Prediction\n",
        "Y_pred = reg.predict(X)\n",
        "\n",
        "# Calculating RMSE adn R2 Score\n",
        "mse = mean_squared_error(Y, Y_pred)\n",
        "rmse = np.sqrt(mse)\n",
        "r2_score = reg.score(X, Y)\n",
        "\n",
        "print(\"Root Mean Squared Error:\", rmse)\n",
        "print(\"R-squared:\", r2_score)\n"
      ]
    },
    {
      "cell_type": "markdown",
      "metadata": {
        "id": "a2iuGzg6DyA9"
      },
      "source": []
    }
  ],
  "metadata": {
    "colab": {
      "provenance": []
    },
    "kernelspec": {
      "display_name": "Python 3",
      "name": "python3"
    },
    "language_info": {
      "name": "python"
    }
  },
  "nbformat": 4,
  "nbformat_minor": 0
}
