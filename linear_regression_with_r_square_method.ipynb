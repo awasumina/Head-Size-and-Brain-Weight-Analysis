{
  "nbformat": 4,
  "nbformat_minor": 0,
  "metadata": {
    "colab": {
      "provenance": []
    },
    "kernelspec": {
      "name": "python3",
      "display_name": "Python 3"
    },
    "language_info": {
      "name": "python"
    }
  },
  "cells": [
    {
      "cell_type": "code",
      "execution_count": null,
      "metadata": {
        "id": "Y9WF7p-h4T11"
      },
      "outputs": [],
      "source": [
        "%matplotlib inline\n",
        "import numpy as np\n",
        "import pandas as pd\n",
        "import matplotlib.pyplot as plt\n",
        "plt.rcParams['figure.figsize'] = (20.0, 10.0)\n",
        "\n",
        "# Reading Data\n",
        "data = pd.read_csv('headbrain.csv')\n",
        "print(data.shape)\n",
        "data.head()\n",
        "\n",
        "# Collecting X and Y\n",
        "X = data['Head Size(cm^3)'].values\n",
        "Y = data['Brain Weight(grams)'].values\n",
        "\n",
        "# Mean X and Y\n",
        "mean_x = np.mean(X)\n",
        "mean_y = np.mean(Y)\n",
        "\n",
        "# Total number of values\n",
        "n = len(X)\n",
        "\n",
        "# Using the formula to calculate b1 and b0\n",
        "numer = 0\n",
        "denom = 0\n",
        "for i in range(n):\n",
        "    numer += (X[i] - mean_x) * (Y[i] - mean_y)\n",
        "    denom += (X[i] - mean_x) ** 2\n",
        "b1 = numer / denom\n",
        "b0 = mean_y - (b1 * mean_x)\n",
        "\n",
        "# Print coefficients\n",
        "print(\"Coefficient b1:\", b1)\n",
        "print(\"Coefficient b0:\", b0)\n",
        "\n",
        "# Plotting Values and Regression Line\n",
        "max_x = np.max(X) + 100\n",
        "min_x = np.min(X) - 100\n",
        "\n",
        "# Calculating line values x and y\n",
        "x = np.linspace(min_x, max_x, 1000)\n",
        "y = b0 + b1 * x\n",
        "\n",
        "# Plotting Line\n",
        "plt.plot(x, y, color='#58b970', label='Regression Line')\n",
        "# Plotting Scatter Points\n",
        "plt.scatter(X, Y, c='#ef5423', label='Scatter Plot')\n",
        "\n",
        "plt.xlabel('Head Size in cm3')\n",
        "plt.ylabel('Brain Weight in grams')\n",
        "plt.legend()\n",
        "plt.show()\n",
        "\n",
        "# To check the goodness of fit by r-square method\n",
        "ss_t = 0  # total sum of squares\n",
        "ss_r = 0  # total sum of squares of residuals\n",
        "for i in range(n):\n",
        "    y_pred = b0 + b1 * X[i]\n",
        "    ss_t += (Y[i] - mean_y) ** 2\n",
        "    ss_r += (Y[i] - y_pred) ** 2\n",
        "\n",
        "r2 = 1 - (ss_r / ss_t)\n",
        "print(\"R-squared:\", r2)\n"
      ]
    }
  ]
}